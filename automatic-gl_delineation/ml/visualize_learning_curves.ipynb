{
 "cells": [
  {
   "cell_type": "code",
   "execution_count": null,
   "metadata": {},
   "outputs": [],
   "source": [
    "import os\n",
    "import pathlib\n",
    "import yaml\n",
    "\n",
    "from tensorboard.backend.event_processing import event_accumulator\n",
    "import pandas as pd\n",
    "\n",
    "import matplotlib.pyplot as plt"
   ]
  },
  {
   "cell_type": "code",
   "execution_count": null,
   "metadata": {},
   "outputs": [],
   "source": [
    "cwd = pathlib.Path(os.getcwd())\n",
    "with open(cwd.parent / 'config_tyndall.yaml') as stream:\n",
    "    config = yaml.safe_load(stream)\n",
    "\n",
    "config['Directories']['work_dir'] = pathlib.Path(config['Directories']['work_dir'])\n",
    "for key, value in config['Directories'].items():\n",
    "    if key == 'work_dir' or key == 'color_to_phase_dicts':\n",
    "        continue\n",
    "    else:\n",
    "        config['Directories'][key] = config['Directories']['work_dir'] / value"
   ]
  },
  {
   "cell_type": "code",
   "execution_count": null,
   "metadata": {},
   "outputs": [],
   "source": [
    "def parse_tensorboard(path):\n",
    "    \"\"\"returns a dictionary of pandas dataframes for all scalars\"\"\"\n",
    "    ea = event_accumulator.EventAccumulator(path, size_guidance={event_accumulator.SCALARS: 0})\n",
    "    ea.Reload()\n",
    "    scalars = ea.Tags()['scalars']\n",
    "    train_metrics = {}\n",
    "    val_metrics = {}\n",
    "    grad_data = {}\n",
    "    for tag in sorted(scalars):\n",
    "        if 'train' in tag and 'epoch' in tag:\n",
    "            values = []\n",
    "            for scalar_event in ea.Scalars(tag):\n",
    "                values.append(scalar_event.value)\n",
    "            train_metrics[tag] = values\n",
    "        elif 'val' in tag:\n",
    "            values = []\n",
    "            for scalar_event in ea.Scalars(tag):\n",
    "                values.append(scalar_event.value)\n",
    "            val_metrics[tag] = values\n",
    "        elif 'conv' in tag:\n",
    "            gradients = []\n",
    "            for scalar_event in ea.Scalars(tag):\n",
    "                gradients.append(scalar_event.value)\n",
    "            grad_data[tag] = gradients\n",
    "\n",
    "    train_metrics = pd.DataFrame(data = train_metrics)\n",
    "    val_metrics = pd.DataFrame(data = val_metrics)\n",
    "    gradients = pd.DataFrame(data = grad_data)\n",
    "    return train_metrics, val_metrics, gradients \n",
    "    "
   ]
  },
  {
   "cell_type": "code",
   "execution_count": null,
   "metadata": {},
   "outputs": [],
   "source": [
    "log_path = list((config['Directories']['logs_dir'] / config['Model_Details']['name']).rglob('version_0/events*'))\n",
    "train_logs, val_logs, gradients = parse_tensorboard(str(log_path[0]))"
   ]
  },
  {
   "cell_type": "code",
   "execution_count": null,
   "metadata": {},
   "outputs": [],
   "source": [
    "fig = plt.figure(figsize = (10, 5), tight_layout = True)\n",
    "\n",
    "ax1 = fig.add_subplot(2, 3, 1)\n",
    "ax1.set_title('Losses')\n",
    "train_logs[['train_loss_epoch']].plot(ax = ax1)\n",
    "val_logs[['val_loss']].plot(ax = ax1)           \n",
    "\n",
    "ax2 = fig.add_subplot(2, 3, 2)\n",
    "ax2.set_title('ODS F1 score')\n",
    "train_logs[['train_ODSF1_epoch']].plot(ax = ax2)\n",
    "val_logs[['val_ODSF1']].plot(ax = ax2)   \n",
    "\n",
    "ax3 = fig.add_subplot(2, 3, 3)\n",
    "ax3.set_title('OIS F1 scores')\n",
    "train_logs[['train_OISF1_epoch']].plot(ax = ax3)\n",
    "val_logs[['val_OISF1']].plot(ax = ax3)   \n",
    "\n",
    "ax4 = fig.add_subplot(2, 3, 4)\n",
    "ax4.set_title('AP')\n",
    "train_logs[['train_AveragePrecision_epoch']].plot(ax = ax4)\n",
    "val_logs[['val_AveragePrecision']].plot(ax = ax4)   \n",
    "\n",
    "ax5 = fig.add_subplot(2, 3, 5)\n",
    "ax5.set_title('IOU')\n",
    "train_logs[['train_IOU_epoch']].plot(ax = ax5)\n",
    "val_logs[['val_IOU']].plot(ax = ax5)   "
   ]
  }
 ],
 "metadata": {
  "kernelspec": {
   "display_name": "Python 3",
   "language": "python",
   "name": "python3"
  },
  "language_info": {
   "codemirror_mode": {
    "name": "ipython",
    "version": 3
   },
   "file_extension": ".py",
   "mimetype": "text/x-python",
   "name": "python",
   "nbconvert_exporter": "python",
   "pygments_lexer": "ipython3",
   "version": "3.10.13"
  },
  "orig_nbformat": 4
 },
 "nbformat": 4,
 "nbformat_minor": 2
}
